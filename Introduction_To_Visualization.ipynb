{
  "nbformat": 4,
  "nbformat_minor": 0,
  "metadata": {
    "colab": {
      "provenance": [],
      "authorship_tag": "ABX9TyM3OjX93zJXAILob4dk7dut",
      "include_colab_link": true
    },
    "kernelspec": {
      "name": "python3",
      "display_name": "Python 3"
    },
    "language_info": {
      "name": "python"
    }
  },
  "cells": [
    {
      "cell_type": "markdown",
      "metadata": {
        "id": "view-in-github",
        "colab_type": "text"
      },
      "source": [
        "<a href=\"https://colab.research.google.com/github/JelanAngeloBLoy-a/CPE-031-Visualization-and-Data-Analysis/blob/main/Introduction_To_Visualization.ipynb\" target=\"_parent\"><img src=\"https://colab.research.google.com/assets/colab-badge.svg\" alt=\"Open In Colab\"/></a>"
      ]
    },
    {
      "cell_type": "code",
      "execution_count": null,
      "metadata": {
        "colab": {
          "base_uri": "https://localhost:8080/"
        },
        "id": "p34P7iBz8zeE",
        "outputId": "8f270696-1291-4079-a232-91c831afa111"
      },
      "outputs": [
        {
          "output_type": "stream",
          "name": "stdout",
          "text": [
            "  animals  height\n",
            "0     Cat      13\n",
            "1     Dog      17\n",
            "2  Rabbit       8\n"
          ]
        }
      ],
      "source": [
        "import pandas\n",
        "#Example 1\n",
        "mydataset={\n",
        "    'animals':[\"Cat\",\"Dog\",\"Rabbit\"],\n",
        "    'height':[13,17,8]\n",
        "}\n",
        "\n",
        "myvar=pandas.DataFrame(mydataset)\n",
        "\n",
        "print(myvar)\n",
        "\n"
      ]
    },
    {
      "cell_type": "code",
      "source": [
        "!pip install pandas\n"
      ],
      "metadata": {
        "colab": {
          "base_uri": "https://localhost:8080/"
        },
        "id": "x5vlSlQO9on_",
        "outputId": "9ae98dd0-4cf3-48a0-8f57-353f30b71bb2"
      },
      "execution_count": null,
      "outputs": [
        {
          "output_type": "stream",
          "name": "stdout",
          "text": [
            "Requirement already satisfied: pandas in /usr/local/lib/python3.12/dist-packages (2.2.2)\n",
            "Requirement already satisfied: numpy>=1.26.0 in /usr/local/lib/python3.12/dist-packages (from pandas) (2.0.2)\n",
            "Requirement already satisfied: python-dateutil>=2.8.2 in /usr/local/lib/python3.12/dist-packages (from pandas) (2.9.0.post0)\n",
            "Requirement already satisfied: pytz>=2020.1 in /usr/local/lib/python3.12/dist-packages (from pandas) (2025.2)\n",
            "Requirement already satisfied: tzdata>=2022.7 in /usr/local/lib/python3.12/dist-packages (from pandas) (2025.2)\n",
            "Requirement already satisfied: six>=1.5 in /usr/local/lib/python3.12/dist-packages (from python-dateutil>=2.8.2->pandas) (1.17.0)\n"
          ]
        }
      ]
    },
    {
      "cell_type": "code",
      "source": [
        "#Example 2\n",
        "import pandas as pd\n",
        "\n",
        "a=[1,7,2]\n",
        "myvar=pd.Series(a)\n",
        "\n",
        "print(myvar)\n",
        "print(myvar[0])"
      ],
      "metadata": {
        "colab": {
          "base_uri": "https://localhost:8080/"
        },
        "id": "x3Z6axNf-O-G",
        "outputId": "9669ae63-8304-4a0e-c5af-3dce89be6cc1"
      },
      "execution_count": null,
      "outputs": [
        {
          "output_type": "stream",
          "name": "stdout",
          "text": [
            "0    1\n",
            "1    7\n",
            "2    2\n",
            "dtype: int64\n",
            "1\n"
          ]
        }
      ]
    },
    {
      "cell_type": "code",
      "source": [
        "#Example number 3\n",
        "import pandas as pd\n",
        "\n",
        "a=[1,7,2]\n",
        "myvar=pd.Series(a,index=[\"x\",\"y\",\"z\"])\n",
        "\n",
        "print(myvar)\n",
        "print(myvar[\"y\"])\n"
      ],
      "metadata": {
        "colab": {
          "base_uri": "https://localhost:8080/"
        },
        "id": "y9d6qOrP_HIp",
        "outputId": "bd85387c-4a10-4ed7-f0d1-9d82893149ca"
      },
      "execution_count": null,
      "outputs": [
        {
          "output_type": "stream",
          "name": "stdout",
          "text": [
            "x    1\n",
            "y    7\n",
            "z    2\n",
            "dtype: int64\n",
            "7\n"
          ]
        }
      ]
    },
    {
      "cell_type": "code",
      "source": [
        "#Example 4\n",
        "import pandas as pd\n",
        "\n",
        "calories={\"day1\":420,\"day2\":380,\"day3\":390}\n",
        "\n",
        "myvar=pd.Series(calories)\n",
        "\n",
        "print(myvar)"
      ],
      "metadata": {
        "colab": {
          "base_uri": "https://localhost:8080/"
        },
        "id": "uafI2buR_zu3",
        "outputId": "3aef10a0-8e8a-4e1e-9a81-25173f7051cf"
      },
      "execution_count": null,
      "outputs": [
        {
          "output_type": "stream",
          "name": "stdout",
          "text": [
            "day1    420\n",
            "day2    380\n",
            "day3    390\n",
            "dtype: int64\n"
          ]
        }
      ]
    },
    {
      "cell_type": "code",
      "source": [
        "#Example 5\n",
        "import pandas as pd\n",
        "\n",
        "data={\n",
        "    \"age\":[42,38,39],\n",
        "    \"weight\":[50,40,45]\n",
        "}\n",
        "\n",
        "myvar=pd.DataFrame(data)\n",
        "print(myvar)\n",
        "print(\" \")\n",
        "print(myvar.loc[0])\n",
        "print(myvar.loc[[0,1]])\n",
        "print(myvar.loc[[0,2]])"
      ],
      "metadata": {
        "colab": {
          "base_uri": "https://localhost:8080/"
        },
        "id": "RtQzIK3H__Km",
        "outputId": "834e0316-b673-4c02-9872-bbce9c9597c5"
      },
      "execution_count": null,
      "outputs": [
        {
          "output_type": "stream",
          "name": "stdout",
          "text": [
            "   age  weight\n",
            "0   42      50\n",
            "1   38      40\n",
            "2   39      45\n",
            " \n",
            "age       42\n",
            "weight    50\n",
            "Name: 0, dtype: int64\n",
            "   age  weight\n",
            "0   42      50\n",
            "1   38      40\n",
            "   age  weight\n",
            "0   42      50\n",
            "2   39      45\n"
          ]
        }
      ]
    },
    {
      "cell_type": "code",
      "source": [
        "\n",
        "#Example 6\n",
        "\n",
        "import pandas as pd\n",
        "\n",
        "data={\n",
        "    \"calories\":[420,380,390],\n",
        "    \"duration\":[50,40,45]\n",
        "}\n",
        "\n",
        "df=pd.DataFrame(data,index=[\"day1\",\"day2\",\"day3\"])\n",
        "\n",
        "print(df)\n",
        "print(df.loc[\"day2\"])\n"
      ],
      "metadata": {
        "colab": {
          "base_uri": "https://localhost:8080/"
        },
        "id": "-F5M2SWq__Uu",
        "outputId": "f0973c9d-144b-4dab-ab51-ed21d8e84acd"
      },
      "execution_count": null,
      "outputs": [
        {
          "output_type": "stream",
          "name": "stdout",
          "text": [
            "      calories  duration\n",
            "day1       420        50\n",
            "day2       380        40\n",
            "day3       390        45\n",
            "calories    380\n",
            "duration     40\n",
            "Name: day2, dtype: int64\n"
          ]
        }
      ]
    },
    {
      "cell_type": "code",
      "source": [
        "#Example 7\n",
        "\n",
        "import pandas as pd\n",
        "\n",
        "df=pd.read_csv('data.csv')\n",
        "print(df)"
      ],
      "metadata": {
        "id": "CmB_Zolc__XW"
      },
      "execution_count": null,
      "outputs": []
    }
  ]
}